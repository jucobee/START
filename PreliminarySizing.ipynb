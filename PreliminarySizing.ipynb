{
 "cells": [
  {
   "attachments": {},
   "cell_type": "markdown",
   "metadata": {},
   "source": [
    "# Preliminary Sizing\n",
    "### EAE 130A\n",
    "\n",
    "The following code outlines how we performed our preliminary sizing calculations. It is derived from the preliminary sizing tutorial."
   ]
  },
  {
   "cell_type": "code",
   "execution_count": 17,
   "metadata": {},
   "outputs": [],
   "source": [
    "import math\n",
    "import numpy as np\n",
    "import matplotlib.pyplot as plt"
   ]
  },
  {
   "attachments": {},
   "cell_type": "markdown",
   "metadata": {},
   "source": [
    "Intro & Equation explanation"
   ]
  },
  {
   "cell_type": "code",
   "execution_count": 18,
   "metadata": {},
   "outputs": [
    {
     "name": "stdout",
     "output_type": "stream",
     "text": [
      "5823.982594896835\n",
      "80\n",
      "4605\n",
      "0.003288242073123077\n",
      "0.6271756189933528\n"
     ]
    }
   ],
   "source": [
    "## Drag Polar Estimate\n",
    "w_to = 57006    #lbs, takeoff weight\n",
    "c = -0.0866     #Table 3.5 Roskam\n",
    "d = 0.8099      #Table 3.5 Roskam\n",
    "c_f = 0.0026    #skin friction coefficient, Raymer 12.3\n",
    "s_wet = (10**c)*(w_to**d)\n",
    "print(s_wet)\n",
    "rho = 0.0765        #lb/ft3\n",
    "v = 590.733         #ft/s\n",
    "c_l = 0.5       ##lift coefficient\n",
    "wing_loading = 80 #0.5*rho*(v**2)*c_l      #lb/sqft\n",
    "print(wing_loading)     #should be ~100\n",
    "s_ref = 4605 #wing_loading/w_to   #sq.ft\n",
    "print(s_ref)        #should be in the 1000s\n",
    "c_do = c_f*(s_wet/s_ref)\n",
    "print(c_do)\n",
    "e_v = 0.80 ## span efficiency factor\n",
    "ar = 9.8 ## aspect ratio\n",
    "c_d = c_do + ((c_l**2)/(np.pi)*e_v*ar)\n",
    "print(c_d)"
   ]
  }
 ],
 "metadata": {
  "kernelspec": {
   "display_name": "base",
   "language": "python",
   "name": "python3"
  },
  "language_info": {
   "codemirror_mode": {
    "name": "ipython",
    "version": 3
   },
   "file_extension": ".py",
   "mimetype": "text/x-python",
   "name": "python",
   "nbconvert_exporter": "python",
   "pygments_lexer": "ipython3",
   "version": "3.9.12"
  },
  "orig_nbformat": 4,
  "vscode": {
   "interpreter": {
    "hash": "277d713a2869ad522e0f58de96fa3cb2620734b34dd3b3afd7f1966d69d2580f"
   }
  }
 },
 "nbformat": 4,
 "nbformat_minor": 2
}
