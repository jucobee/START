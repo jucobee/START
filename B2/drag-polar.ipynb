{
 "cells": [
  {
   "cell_type": "code",
   "execution_count": 6,
   "metadata": {},
   "outputs": [],
   "source": [
    "import numpy as np\n",
    "import Drag_Build_Up # python file that calculates individual components zero lift drag\n",
    "import MiscDrag\n",
    "#import FlapDrag"
   ]
  },
  {
   "cell_type": "markdown",
   "metadata": {},
   "source": [
    "$$\n",
    "C_{D_0}=\\frac{1}{S_{\\text {ref }}} \\Sigma_{c=1}^{n_{\\text {component }}}\\left(C_{f_c} F F_c Q_c S_{\\text {wet }}\\right)+C_{D_{\\text {mis }}}+C_{D_{L \\& P}}\n",
    "$$\n",
    "$S_{\\text {ref }}$: Wing reference area <br>\n",
    "$C_{f_c}$: Skin friction coefficient for component $c$ <br>\n",
    "$F F_c$: Form factor for component $c$<br>\n",
    "$Q_c$: Interference factor for component $c$ <br>\n",
    "$S_{wet}$: Wetted surface area of component $c$ <br>\n",
    "$C_{D_{\\text {mis }}}$: Missing drag due to components with large form drag<br>\n",
    "$C_{D_{L \\& P}}$: Leakage/protuberance drag<br>"
   ]
  },
  {
   "cell_type": "code",
   "execution_count": 7,
   "metadata": {},
   "outputs": [
    {
     "name": "stdout",
     "output_type": "stream",
     "text": [
      "0.8995321519578817\n",
      "0.0002126906641622804\n",
      "0.9627120932590958\n",
      "0.8171695908568283\n",
      "0.00017227084949141577\n",
      "0.8745437330662977\n",
      "0.8171695908568283\n",
      "0.00041436216793453524\n",
      "0.8747858243847408\n",
      "0.8171695908568283\n",
      "0.0009504764254546492\n",
      "0.8753219386422609\n",
      "0.8171695908568283\n",
      "0.0011925677438977685\n",
      "0.875564029960704\n"
     ]
    },
    {
     "data": {
      "text/plain": [
       "'\\ncl1 = \\ncl2 = \\ncl3 = \\ncl4 = \\ncl5 = \\n\\n'"
      ]
     },
     "execution_count": 7,
     "metadata": {},
     "output_type": "execute_result"
    }
   ],
   "source": [
    "# Define parameters\n",
    "S_ref = 826.13454               # reference area\n",
    "\n",
    "# Flight conditions\n",
    "M = [0.457, 0.25, 0.25, 0.25, 0.25]                   # Mach Numbers\n",
    "rho = [0.1152e-02, 0.1152e-02, 0.1152e-02, 0.1152e-02, 0.1152e-02]                 # Densitys\n",
    "V = [275*1.6878099, 275*1.6878099, 275*1.6878099, 275*1.6878099, 275*1.6878099]                   # Velocitys\n",
    "mu = [3.246e-7, 3.246e-7, 3.246e-7, 3.246e-7, 3.246e-7]                  # Dynamic Viscositys\n",
    "\n",
    "'''\n",
    "Legend for flight_stg:\n",
    "\n",
    "1 = clean\n",
    "2 = takeoff flaps, gear up\n",
    "3 = takeoff flaps, gear down\n",
    "4 = landing flaps, gear up\n",
    "5 = landing flaps, gear down\n",
    "\n",
    "'''\n",
    "flight_stages = [1, 2, 3, 4, 5]\n",
    "\n",
    "\n",
    "\n",
    "# Induced drag values from AVL for each flight stage\n",
    "#CDis = [[], [], [], [], []]\n",
    "\n",
    "\n",
    "# Loop that ouputs an array of CD values corresponding to our 5 flight stages\n",
    "CD = [0, 0, 0, 0, 0]\n",
    "for i in range(0,5):\n",
    "    all_components = Drag_Build_Up.dragDragComponents(M[i], rho[i], V[i], mu[i])\n",
    "    Sumcomps = (1/S_ref) * sum([component.CalculateDrag() for component in all_components])\n",
    "    print(Sumcomps)\n",
    "    C_D_leakpro = 0.07 * Sumcomps\n",
    "    C_D_missing = MiscDrag.miscDrag(M[i], flight_stages[i])\n",
    "    print(C_D_missing)\n",
    "\n",
    "    CD0 = Sumcomps + C_D_leakpro + C_D_missing\n",
    "    print(CD0)\n",
    "    #Cdflap = FlapDrag.flapDrag(flight_stages[i])\n",
    "    #CD[i] = CDis[i] + (CD0 + Cdflap)\n",
    "\n",
    "\n",
    "\n",
    "\n",
    "\n",
    "\n",
    "# Cl's corresponding to the flight stages defined above\n",
    "\"\"\"\n",
    "cl1 = \n",
    "cl2 = \n",
    "cl3 = \n",
    "cl4 = \n",
    "cl5 = \n",
    "\n",
    "\"\"\"\n"
   ]
  }
 ],
 "metadata": {
  "kernelspec": {
   "display_name": "Python 3.10.8 64-bit",
   "language": "python",
   "name": "python3"
  },
  "language_info": {
   "codemirror_mode": {
    "name": "ipython",
    "version": 3
   },
   "file_extension": ".py",
   "mimetype": "text/x-python",
   "name": "python",
   "nbconvert_exporter": "python",
   "pygments_lexer": "ipython3",
   "version": "3.9.12"
  },
  "orig_nbformat": 4,
  "vscode": {
   "interpreter": {
    "hash": "bd385fe162c5ca0c84973b7dd5c518456272446b2b64e67c2a69f949ca7a1754"
   }
  }
 },
 "nbformat": 4,
 "nbformat_minor": 2
}
