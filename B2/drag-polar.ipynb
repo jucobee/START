{
 "cells": [
  {
   "cell_type": "code",
   "execution_count": null,
   "metadata": {},
   "outputs": [],
   "source": [
    "import numpy as np\n",
    "import Drag_Build_Up # python file that calculates individual components zero lift drag\n",
    "import MiscDrag"
   ]
  },
  {
   "cell_type": "markdown",
   "metadata": {},
   "source": [
    "$$\n",
    "C_{D_0}=\\frac{1}{S_{\\text {ref }}} \\Sigma_{c=1}^{n_{\\text {component }}}\\left(C_{f_c} F F_c Q_c S_{\\text {wet }}\\right)+C_{D_{\\text {mis }}}+C_{D_{L \\& P}}\n",
    "$$\n",
    "$S_{\\text {ref }}$: Wing reference area <br>\n",
    "$C_{f_c}$: Skin friction coefficient for component $c$ <br>\n",
    "$F F_c$: Form factor for component $c$<br>\n",
    "$Q_c$: Interference factor for component $c$ <br>\n",
    "$S_{wet}$: Wetted surface area of component $c$ <br>\n",
    "$C_{D_{\\text {mis }}}$: Missing drag due to components with large form drag<br>\n",
    "$C_{D_{L \\& P}}$: Leakage/protuberance drag<br>"
   ]
  },
  {
   "cell_type": "code",
   "execution_count": 12,
   "metadata": {},
   "outputs": [
    {
     "name": "stdout",
     "output_type": "stream",
     "text": [
      "2\n",
      "6\n"
     ]
    }
   ],
   "source": [
    "# Define parameters\n",
    "S_ref = 1               # reference area\n",
    "\n",
    "# Flight conditions\n",
    "M = [1, 1, 1, 1, 1]                   # Mach Numbers\n",
    "rho = [1, 1, 1, 1, 1]                 # Densitys\n",
    "V = [1, 1, 1, 1, 1]                   # Velocitys\n",
    "mu = [1, 1, 1, 1, 1]                  # Dynamic Viscositys\n",
    "\n",
    "'''\n",
    "Legend for flight_stg:\n",
    "\n",
    "1 = clean\n",
    "2 = takeoff flaps, gear up\n",
    "3 = takeoff flaps, gear down\n",
    "4 = landing flaps, gear up\n",
    "5 = landing flaps, gear down\n",
    "\n",
    "'''\n",
    "flight_stages = [1, 2, 3, 4, 5]\n",
    "\n",
    "\n",
    "\n",
    "\n",
    "'''\n",
    "We need to put the following code into a for loop to get an array of Cd0 values that correspond \n",
    "to the five flight stages. Then we can combine the CD0 values with the avl values to get our full \n",
    "drag polars \n",
    "'''\n",
    "\n",
    "\n",
    "# Get array of all component objects\n",
    "all_components = Drag_Build_Up.dragComponents(M, rho, V, mu) \n",
    "\n",
    "# calculate sum of all components' drag\n",
    "ComponentsDrag = (1/S_ref) * sum([component.CalculateDrag() for component in all_components])\n",
    "C_D_leakpro = 0.07 * ComponentsDrag\n",
    "C_D_missing = MiscDrag.miscDrag(M, 1)\n",
    "C_D0 = ComponentsDrag + C_D_missing + C_D_leakpro\n",
    "print(C_D0)\n"
   ]
  }
 ],
 "metadata": {
  "kernelspec": {
   "display_name": "Python 3.10.8 64-bit",
   "language": "python",
   "name": "python3"
  },
  "language_info": {
   "codemirror_mode": {
    "name": "ipython",
    "version": 3
   },
   "file_extension": ".py",
   "mimetype": "text/x-python",
   "name": "python",
   "nbconvert_exporter": "python",
   "pygments_lexer": "ipython3",
   "version": "3.10.8"
  },
  "orig_nbformat": 4,
  "vscode": {
   "interpreter": {
    "hash": "bd385fe162c5ca0c84973b7dd5c518456272446b2b64e67c2a69f949ca7a1754"
   }
  }
 },
 "nbformat": 4,
 "nbformat_minor": 2
}
