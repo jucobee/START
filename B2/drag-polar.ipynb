{
 "cells": [
  {
   "cell_type": "code",
   "execution_count": 1,
   "metadata": {},
   "outputs": [],
   "source": [
    "import numpy as np\n",
    "import Drag_Build_Up # python file that calculates individual components zero lift drag\n",
    "import MiscDrag\n",
    "# import FlapDrag"
   ]
  },
  {
   "cell_type": "markdown",
   "metadata": {},
   "source": [
    "$$\n",
    "C_{D_0}=\\frac{1}{S_{\\text {ref }}} \\Sigma_{c=1}^{n_{\\text {component }}}\\left(C_{f_c} F F_c Q_c S_{\\text {wet }}\\right)+C_{D_{\\text {mis }}}+C_{D_{L \\& P}}\n",
    "$$\n",
    "$S_{\\text {ref }}$: Wing reference area <br>\n",
    "$C_{f_c}$: Skin friction coefficient for component $c$ <br>\n",
    "$F F_c$: Form factor for component $c$<br>\n",
    "$Q_c$: Interference factor for component $c$ <br>\n",
    "$S_{wet}$: Wetted surface area of component $c$ <br>\n",
    "$C_{D_{\\text {mis }}}$: Missing drag due to components with large form drag<br>\n",
    "$C_{D_{L \\& P}}$: Leakage/protuberance drag<br>"
   ]
  },
  {
   "cell_type": "code",
   "execution_count": 3,
   "metadata": {},
   "outputs": [
    {
     "name": "stdout",
     "output_type": "stream",
     "text": [
      "formfactor 1.3600031389678808 1.3549184211581407 1.4497539284332306\n",
      "formfactor 1.2200684487012792 1.215506912339737 1.300584517624331\n",
      "formfactor 1.2200684487012792 1.215506912339737 1.300584517624331\n",
      "formfactor 1.2200684487012792 1.215506912339737 1.300584517624331\n",
      "formfactor 1.2200684487012792 1.215506912339737 1.300584517624331\n",
      "[0.011201524675514237, 0.01064730680927404, 0.010889398127717161, 0.011425512385237275, 0.011667603703680394]\n"
     ]
    }
   ],
   "source": [
    "# Define parameters\n",
    "S_ref = 826.13454               # reference area\n",
    "\n",
    "'''\n",
    "Legend for flight_stg:\n",
    "\n",
    "1 = clean\n",
    "2 = takeoff flaps, gear up\n",
    "3 = takeoff flaps, gear down\n",
    "4 = landing flaps, gear up\n",
    "5 = landing flaps, gear down\n",
    "\n",
    "'''\n",
    "flight_stages = [1, 2, 3, 4, 5]\n",
    "\n",
    "\n",
    "# Flight conditions for each flight condition\n",
    "M =     [0.457, 0.25, 0.25, 0.25, 0.25]                                                 # Mach Numbers\n",
    "rho =   [0.1152e-02, 0.1152e-02, 0.1152e-02, 0.1152e-02, 0.1152e-02]                  # Densitys\n",
    "V =     [275*1.6878099, 275*1.6878099, 275*1.6878099, 275*1.6878099, 275*1.6878099]     # Velocitys\n",
    "mu =    [3.246e-7, 3.246e-7, 3.246e-7, 3.246e-7, 3.246e-7]                             # Dynamic Viscositys\n",
    "\n",
    "\n",
    "\n",
    "'''\n",
    "We need to put the following code into a for loop to get an array of Cd0 values that correspond \n",
    "to the five flight stages. Then we can combine the CD0 values with the avl values to get our full \n",
    "drag polars \n",
    "'''\n",
    "\n",
    "\n",
    "# Loop that ouputs an array of CD0 values corresponding to our 5 flight stages\n",
    "CD0s = []\n",
    "for i in range(len(flight_stages)):\n",
    "    all_components = Drag_Build_Up.dragDragComponents(M[i], rho[i], V[i], mu[i])\n",
    "    Sumcomps = (1/S_ref) * sum([component.CalculateDrag() for component in all_components])\n",
    "    C_D_leakpro = 0.07 * Sumcomps\n",
    "    C_D_missing = MiscDrag.miscDrag(M[i], flight_stages[i])\n",
    "\n",
    "    # print(\"Flight Stage\", flight_stages[i])\n",
    "    # print(\"Wing: \", all_components[0].CalculateDrag() / S_ref)\n",
    "    # print(\"hTail: \", all_components[1].CalculateDrag() / S_ref)\n",
    "    # print(\"vTail: \", all_components[2].CalculateDrag() / S_ref)\n",
    "    # print(\"Fuselage: \", all_components[3].CalculateDrag() / S_ref)\n",
    "    # print(\"Nacelle: \", all_components[4].CalculateDrag() / S_ref)\n",
    "\n",
    "\n",
    "    CD0s.append(Sumcomps + C_D_leakpro + C_D_missing)\n",
    "print(CD0s)\n",
    "\n",
    "# for i in range(len(flight_stages)):\n",
    "#     Cdflap = FlapDrag.flapDrag(flight_stages[i])\n",
    "\n",
    "\n",
    "\n",
    "# Cl's corresponding to the flight stages defined above\n",
    "# cl1 = \n",
    "# cl2 = \n",
    "# cl3 = \n",
    "# cl4 = \n",
    "# cl5 = \n",
    "\n",
    "\n"
   ]
  }
 ],
 "metadata": {
  "kernelspec": {
   "display_name": "Python 3.10.8 64-bit",
   "language": "python",
   "name": "python3"
  },
  "language_info": {
   "codemirror_mode": {
    "name": "ipython",
    "version": 3
   },
   "file_extension": ".py",
   "mimetype": "text/x-python",
   "name": "python",
   "nbconvert_exporter": "python",
   "pygments_lexer": "ipython3",
   "version": "3.10.8"
  },
  "orig_nbformat": 4,
  "vscode": {
   "interpreter": {
    "hash": "bd385fe162c5ca0c84973b7dd5c518456272446b2b64e67c2a69f949ca7a1754"
   }
  }
 },
 "nbformat": 4,
 "nbformat_minor": 2
}
