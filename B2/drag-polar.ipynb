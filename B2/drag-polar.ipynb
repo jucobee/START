{
 "cells": [
  {
   "cell_type": "code",
   "execution_count": 1,
   "metadata": {},
   "outputs": [],
   "source": [
    "import STARTG01_AVLmodel\n",
    "import numpy as np\n",
    "import Drag_Build_Up # python file that calculates individual components zero lift drag\n",
    "import MiscDrag\n",
    "import matplotlib.pyplot as plt\n",
    "# import FlapDrag"
   ]
  },
  {
   "cell_type": "markdown",
   "metadata": {},
   "source": [
    "$$\n",
    "C_{D_0}=\\frac{1}{S_{\\text {ref }}} \\Sigma_{c=1}^{n_{\\text {component }}}\\left(C_{f_c} F F_c Q_c S_{\\text {wet }}\\right)+C_{D_{\\text {mis }}}+C_{D_{L \\& P}}\n",
    "$$\n",
    "$S_{\\text {ref }}$: Wing reference area <br>\n",
    "$C_{f_c}$: Skin friction coefficient for component $c$ <br>\n",
    "$F F_c$: Form factor for component $c$<br>\n",
    "$Q_c$: Interference factor for component $c$ <br>\n",
    "$S_{wet}$: Wetted surface area of component $c$ <br>\n",
    "$C_{D_{\\text {mis }}}$: Missing drag due to components with large form drag<br>\n",
    "$C_{D_{L \\& P}}$: Leakage/protuberance drag<br>"
   ]
  },
  {
   "cell_type": "code",
   "execution_count": 2,
   "metadata": {},
   "outputs": [
    {
     "name": "stdout",
     "output_type": "stream",
     "text": [
      "P2_A-2.out does not exist, running . . .\n",
      "P2_A-1.out does not exist, running . . .\n",
      "P2_A0.out does not exist, running . . .\n",
      "P2_A1.out does not exist, running . . .\n",
      "P2_A2.out does not exist, running . . .\n",
      "P2_A3.out does not exist, running . . .\n",
      "P2_A4.out does not exist, running . . .\n",
      "P2_A5.out does not exist, running . . .\n",
      "P2_A6.out does not exist, running . . .\n",
      "P2_A7.out does not exist, running . . .\n",
      "P2_A8.out does not exist, running . . .\n",
      "P2_A9.out does not exist, running . . .\n",
      "P2_A10.out does not exist, running . . .\n",
      "P2_A11.out does not exist, running . . .\n",
      "P2_A12.out does not exist, running . . .\n",
      "P2_A13.out does not exist, running . . .\n",
      "P2_A14.out does not exist, running . . .\n",
      "P2_A15.out does not exist, running . . .\n",
      "P3_A-15.out does not exist, running . . .\n",
      "P3_A-14.out does not exist, running . . .\n",
      "P3_A-13.out does not exist, running . . .\n",
      "P3_A-12.out does not exist, running . . .\n",
      "P3_A-11.out does not exist, running . . .\n",
      "P3_A-10.out does not exist, running . . .\n",
      "P3_A-9.out does not exist, running . . .\n",
      "P3_A-8.out does not exist, running . . .\n",
      "P3_A-7.out does not exist, running . . .\n",
      "P3_A-6.out does not exist, running . . .\n",
      "P3_A-5.out does not exist, running . . .\n",
      "P3_A-4.out does not exist, running . . .\n",
      "P3_A-3.out does not exist, running . . .\n",
      "P3_A-2.out does not exist, running . . .\n",
      "P3_A-1.out does not exist, running . . .\n",
      "P3_A0.out does not exist, running . . .\n",
      "P3_A1.out does not exist, running . . .\n",
      "P3_A2.out does not exist, running . . .\n",
      "P3_A3.out does not exist, running . . .\n",
      "P3_A4.out does not exist, running . . .\n",
      "P3_A5.out does not exist, running . . .\n",
      "P3_A6.out does not exist, running . . .\n",
      "P3_A7.out does not exist, running . . .\n",
      "P3_A8.out does not exist, running . . .\n",
      "P3_A9.out does not exist, running . . .\n",
      "P3_A10.out does not exist, running . . .\n",
      "P3_A11.out does not exist, running . . .\n",
      "P3_A12.out does not exist, running . . .\n",
      "P3_A13.out does not exist, running . . .\n",
      "P3_A14.out does not exist, running . . .\n",
      "P3_A15.out does not exist, running . . .\n",
      "P4_A-15.out does not exist, running . . .\n",
      "P4_A-14.out does not exist, running . . .\n",
      "P4_A-13.out does not exist, running . . .\n",
      "P4_A-12.out does not exist, running . . .\n",
      "P4_A-11.out does not exist, running . . .\n",
      "P4_A-10.out does not exist, running . . .\n",
      "P4_A-9.out does not exist, running . . .\n",
      "P4_A-8.out does not exist, running . . .\n",
      "P4_A-7.out does not exist, running . . .\n",
      "P4_A-6.out does not exist, running . . .\n",
      "P4_A-5.out does not exist, running . . .\n",
      "P4_A-4.out does not exist, running . . .\n",
      "P4_A-3.out does not exist, running . . .\n",
      "P4_A-2.out does not exist, running . . .\n",
      "P4_A-1.out does not exist, running . . .\n",
      "P4_A0.out does not exist, running . . .\n",
      "P4_A1.out does not exist, running . . .\n",
      "P4_A2.out does not exist, running . . .\n",
      "P4_A3.out does not exist, running . . .\n",
      "P4_A4.out does not exist, running . . .\n",
      "P4_A5.out does not exist, running . . .\n",
      "P4_A6.out does not exist, running . . .\n",
      "P4_A7.out does not exist, running . . .\n",
      "P4_A8.out does not exist, running . . .\n",
      "P4_A9.out does not exist, running . . .\n",
      "P4_A10.out does not exist, running . . .\n",
      "P4_A11.out does not exist, running . . .\n",
      "P4_A12.out does not exist, running . . .\n",
      "P4_A13.out does not exist, running . . .\n",
      "P4_A14.out does not exist, running . . .\n",
      "P4_A15.out does not exist, running . . .\n",
      "P5_A-15.out does not exist, running . . .\n",
      "P5_A-14.out does not exist, running . . .\n",
      "P5_A-13.out does not exist, running . . .\n",
      "P5_A-12.out does not exist, running . . .\n",
      "P5_A-11.out does not exist, running . . .\n",
      "P5_A-10.out does not exist, running . . .\n",
      "P5_A-9.out does not exist, running . . .\n",
      "P5_A-8.out does not exist, running . . .\n",
      "P5_A-7.out does not exist, running . . .\n",
      "P5_A-6.out does not exist, running . . .\n",
      "P5_A-5.out does not exist, running . . .\n",
      "P5_A-4.out does not exist, running . . .\n",
      "P5_A-3.out does not exist, running . . .\n",
      "P5_A-2.out does not exist, running . . .\n",
      "P5_A-1.out does not exist, running . . .\n",
      "P5_A0.out does not exist, running . . .\n",
      "P5_A1.out does not exist, running . . .\n",
      "P5_A2.out does not exist, running . . .\n",
      "P5_A3.out does not exist, running . . .\n",
      "P5_A4.out does not exist, running . . .\n",
      "P5_A5.out does not exist, running . . .\n",
      "P5_A6.out does not exist, running . . .\n",
      "P5_A7.out does not exist, running . . .\n",
      "P5_A8.out does not exist, running . . .\n",
      "P5_A9.out does not exist, running . . .\n",
      "P5_A10.out does not exist, running . . .\n",
      "P5_A11.out does not exist, running . . .\n",
      "P5_A12.out does not exist, running . . .\n",
      "P5_A13.out does not exist, running . . .\n",
      "P5_A14.out does not exist, running . . .\n",
      "P5_A15.out does not exist, running . . .\n"
     ]
    }
   ],
   "source": [
    "\n",
    "CL1=[]\n",
    "CD1=[]\n",
    "for i in range(-15,15+1):\n",
    "    CL,CD = STARTG01_AVLmodel.STARTG01_AVL(1,i,1)\n",
    "    CL1 += [CL]\n",
    "    CD1 += [CD]\n",
    "\n",
    "CL2=[]\n",
    "CD2=[]\n",
    "for i in range(-15,15+1):\n",
    "    CL,CD = STARTG01_AVLmodel.STARTG01_AVL(2,i,1)\n",
    "    CL2 += [CL]\n",
    "    CD2 += [CD]\n",
    "\n",
    "CL3=[]\n",
    "CD3=[]\n",
    "for i in range(-15,15+1):\n",
    "    CL,CD = STARTG01_AVLmodel.STARTG01_AVL(3,i,1)\n",
    "    CL3 += [CL]\n",
    "    CD3 += [CD]\n",
    "\n",
    "CL4=[]\n",
    "CD4=[]\n",
    "for i in range(-15,15+1):\n",
    "    CL,CD = STARTG01_AVLmodel.STARTG01_AVL(4,i,1)\n",
    "    CL4 += [CL]\n",
    "    CD4 += [CD]\n",
    "\n",
    "CL5=[]\n",
    "CD5=[]\n",
    "for i in range(-15,15+1):\n",
    "    CL,CD = STARTG01_AVLmodel.STARTG01_AVL(5,i,1)\n",
    "    CL5 += [CL]\n",
    "    CD5 += [CD]\n"
   ]
  },
  {
   "cell_type": "code",
   "execution_count": 15,
   "metadata": {},
   "outputs": [
    {
     "name": "stdout",
     "output_type": "stream",
     "text": [
      "[0.011201524675514237, 0.01064730680927404, 0.010889398127717161, 0.011425512385237275, 0.011667603703680394]\n"
     ]
    }
   ],
   "source": [
    "# Define parameters\n",
    "S_ref = 826.13454               # reference area\n",
    "\n",
    "'''\n",
    "Legend for flight_stg:\n",
    "\n",
    "1 = clean\n",
    "2 = takeoff flaps, gear up\n",
    "3 = takeoff flaps, gear down\n",
    "4 = landing flaps, gear up\n",
    "5 = landing flaps, gear down\n",
    "\n",
    "'''\n",
    "flight_stages = [1, 2, 3, 4, 5]\n",
    "\n",
    "\n",
    "# Flight conditions for each flight condition\n",
    "M =     [0.457, 0.25, 0.25, 0.25, 0.25]                                                 # Mach Numbers\n",
    "rho =   [0.1152e-02, 0.1152e-02, 0.1152e-02, 0.1152e-02, 0.1152e-02]                  # Densitys\n",
    "V =     [275*1.6878099, 275*1.6878099, 275*1.6878099, 275*1.6878099, 275*1.6878099]     # Velocitys\n",
    "mu =    [3.246e-7, 3.246e-7, 3.246e-7, 3.246e-7, 3.246e-7]                             # Dynamic Viscositys\n",
    "\n",
    "\n",
    "\n",
    "'''\n",
    "We need to put the following code into a for loop to get an array of Cd0 values that correspond \n",
    "to the five flight stages. Then we can combine the CD0 values with the avl values to get our full \n",
    "drag polars \n",
    "'''\n",
    "\n",
    "\n",
    "# Loop that ouputs an array of CD0 values corresponding to our 5 flight stages\n",
    "CD0s = []\n",
    "for i in range(len(flight_stages)):\n",
    "    all_components = Drag_Build_Up.dragDragComponents(M[i], rho[i], V[i], mu[i])\n",
    "    Sumcomps = (1/S_ref) * sum([component.CalculateDrag() for component in all_components])\n",
    "    C_D_leakpro = 0.07 * Sumcomps\n",
    "    C_D_missing = MiscDrag.miscDrag(M[i], flight_stages[i])\n",
    "\n",
    "    # print(\"Flight Stage\", flight_stages[i])\n",
    "    # print(\"Wing: \", all_components[0].CalculateDrag() / S_ref)\n",
    "    # print(\"hTail: \", all_components[1].CalculateDrag() / S_ref)\n",
    "    # print(\"vTail: \", all_components[2].CalculateDrag() / S_ref)\n",
    "    # print(\"Fuselage: \", all_components[3].CalculateDrag() / S_ref)\n",
    "    # print(\"Nacelle: \", all_components[4].CalculateDrag() / S_ref)\n",
    "\n",
    "\n",
    "    CD0s.append(Sumcomps + C_D_leakpro + C_D_missing)\n",
    "print(CD0s)\n",
    "\n",
    "\n",
    "# for i in range(len(flight_stages)):\n",
    "#     Cdflap = FlapDrag.flapDrag(flight_stages[i])\n",
    "\n",
    "\n",
    "\n",
    "# Cl's corresponding to the flight stages defined above\n",
    "# cl1 = \n",
    "# cl2 = \n",
    "# cl3 = \n",
    "# cl4 = \n",
    "# cl5 = \n",
    "\n",
    "\n"
   ]
  },
  {
   "cell_type": "code",
   "execution_count": 17,
   "metadata": {},
   "outputs": [
    {
     "data": {
      "text/plain": [
       "[<matplotlib.lines.Line2D at 0x1fa341a67c0>]"
      ]
     },
     "execution_count": 17,
     "metadata": {},
     "output_type": "execute_result"
    },
    {
     "data": {
      "image/png": "[encoded data removed]",
      "text/plain": [
       "<Figure size 432x288 with 1 Axes>"
      ]
     },
     "metadata": {
      "needs_background": "light"
     },
     "output_type": "display_data"
    },
    {
     "data": {
      "image/png": "[encoded data removed]",
      "text/plain": [
       "<Figure size 432x288 with 1 Axes>"
      ]
     },
     "metadata": {
      "needs_background": "light"
     },
     "output_type": "display_data"
    },
    {
     "data": {
      "image/png": "[encoded data removed]",
      "text/plain": [
       "<Figure size 432x288 with 1 Axes>"
      ]
     },
     "metadata": {
      "needs_background": "light"
     },
     "output_type": "display_data"
    }
   ],
   "source": [
    "plt.plot(CL1,CD1)\n",
    "plt.plot(CL2,CD2)\n",
    "plt.plot(CL3,CD3)\n",
    "plt.plot(CL4,CD4)\n",
    "plt.plot(CL5,CD5)\n",
    "\n",
    "plt.figure()\n",
    "\n",
    "plt.plot(CL1,CD0s[0]+CD1)\n",
    "plt.plot(CL2,CD0s[0]+CD2)\n",
    "plt.plot(CL3,CD0s[0]+CD3)\n",
    "plt.plot(CL4,CD0s[0]+CD4)\n",
    "plt.plot(CL5,CD0s[0]+CD5)\n",
    "\n",
    "plt.figure()\n",
    "\n",
    "plt.plot(range(-15,15+1),CL1/(CD0s[0]+CD1))\n",
    "plt.plot(range(-15,15+1),CL2/(CD0s[1]+CD2))\n",
    "plt.plot(range(-15,15+1),CL3/(CD0s[2]+CD3))\n",
    "plt.plot(range(-15,15+1),CL4/(CD0s[3]+CD4))\n",
    "plt.plot(range(-15,15+1),CL5/(CD0s[4]+CD5))\n"
   ]
  },
  {
   "cell_type": "code",
   "execution_count": null,
   "metadata": {},
   "outputs": [],
   "source": []
  }
 ],
 "metadata": {
  "kernelspec": {
   "display_name": "Python 3.10.8 64-bit",
   "language": "python",
   "name": "python3"
  },
  "language_info": {
   "codemirror_mode": {
    "name": "ipython",
    "version": 3
   },
   "file_extension": ".py",
   "mimetype": "text/x-python",
   "name": "python",
   "nbconvert_exporter": "python",
   "pygments_lexer": "ipython3",
   "version": "3.9.12"
  },
  "orig_nbformat": 4,
  "vscode": {
   "interpreter": {
    "hash": "bd385fe162c5ca0c84973b7dd5c518456272446b2b64e67c2a69f949ca7a1754"
   }
  }
 },
 "nbformat": 4,
 "nbformat_minor": 2
}
