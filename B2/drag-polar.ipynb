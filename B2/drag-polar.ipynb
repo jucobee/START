{
 "cells": [
  {
   "cell_type": "code",
   "execution_count": 5,
   "metadata": {},
   "outputs": [],
   "source": [
    "class Component:\n",
    "    def __init__(self, C_fc, FF, Q_c, S_wet):\n",
    "        self.C_fc = C_fc\n",
    "        self.FF = FF\n",
    "        self.Q_c = Q_c\n",
    "        self.S_wet = S_wet\n",
    "    \n",
    "    def CalculateDrag(self):\n",
    "        return self.C_fc * self.FF * self.Q_c * self.S_wet\n"
   ]
  },
  {
   "cell_type": "markdown",
   "metadata": {},
   "source": [
    "$$\n",
    "C_{D_0}=\\frac{1}{S_{\\text {ref }}} \\Sigma_{c=1}^{n_{\\text {component }}}\\left(C_{f_c} F F_c Q_c S_{\\text {wet }}\\right)+C_{D_{\\text {mis }}}+C_{D_{L \\& P}}\n",
    "$$"
   ]
  },
  {
   "cell_type": "code",
   "execution_count": 8,
   "metadata": {},
   "outputs": [
    {
     "name": "stdout",
     "output_type": "stream",
     "text": [
      "2\n"
     ]
    }
   ],
   "source": [
    "wing = Component(1, 1, 1, 2)\n",
    "print(wing.CalculateDrag())"
   ]
  }
 ],
 "metadata": {
  "kernelspec": {
   "display_name": "Python 3.10.8 64-bit",
   "language": "python",
   "name": "python3"
  },
  "language_info": {
   "codemirror_mode": {
    "name": "ipython",
    "version": 3
   },
   "file_extension": ".py",
   "mimetype": "text/x-python",
   "name": "python",
   "nbconvert_exporter": "python",
   "pygments_lexer": "ipython3",
   "version": "3.10.8"
  },
  "orig_nbformat": 4,
  "vscode": {
   "interpreter": {
    "hash": "bd385fe162c5ca0c84973b7dd5c518456272446b2b64e67c2a69f949ca7a1754"
   }
  }
 },
 "nbformat": 4,
 "nbformat_minor": 2
}
