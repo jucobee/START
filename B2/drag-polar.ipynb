{
 "cells": [
  {
   "cell_type": "code",
   "execution_count": null,
   "metadata": {},
   "outputs": [],
   "source": [
    "import numpy as np\n",
    "import Drag_Build_Up # python file that calculates individual components zero lift drag"
   ]
  },
  {
   "cell_type": "code",
   "execution_count": 5,
   "metadata": {},
   "outputs": [],
   "source": [
    "class Component:\n",
    "    def __init__(self, C_fc, FF, Q_c, S_wet):\n",
    "        self.C_fc = C_fc\n",
    "        self.FF = FF\n",
    "        self.Q_c = Q_c\n",
    "        self.S_wet = S_wet\n",
    "    \n",
    "    def CalculateDrag(self):\n",
    "        return self.C_fc * self.FF * self.Q_c * self.S_wet\n"
   ]
  },
  {
   "cell_type": "markdown",
   "metadata": {},
   "source": [
    "$$\n",
    "C_{D_0}=\\frac{1}{S_{\\text {ref }}} \\Sigma_{c=1}^{n_{\\text {component }}}\\left(C_{f_c} F F_c Q_c S_{\\text {wet }}\\right)+C_{D_{\\text {mis }}}+C_{D_{L \\& P}}\n",
    "$$"
   ]
  },
  {
   "cell_type": "code",
   "execution_count": 12,
   "metadata": {},
   "outputs": [
    {
     "name": "stdout",
     "output_type": "stream",
     "text": [
      "2\n",
      "6\n"
     ]
    }
   ],
   "source": [
    "# Define parameters\n",
    "S_ref = 1               # reference area\n",
    "C_D_missing = 1         # “Missing” drag due to components with large form drag\n",
    "C_D_leakpro = 1         # Leakage/Protuberance drag\n",
    "\n",
    "# replace these with actual values\n",
    "wing = Component(1, 1, 1, 2)\n",
    "print(wing.CalculateDrag())\n",
    "test = Component(1,1,2,1)\n",
    "test2 = Component(2,1,1,1)\n",
    "\n",
    "all_components = [test, test2, wing] \n",
    "# calculate sum of all components' drag\n",
    "C_D0 = (1/S_ref) * sum([component.CalculateDrag() for component in testtt])\n",
    "C_D0 += C_D_missing + C_D_leakpro\n",
    "print(C_D0)\n"
   ]
  }
 ],
 "metadata": {
  "kernelspec": {
   "display_name": "Python 3.10.8 64-bit",
   "language": "python",
   "name": "python3"
  },
  "language_info": {
   "codemirror_mode": {
    "name": "ipython",
    "version": 3
   },
   "file_extension": ".py",
   "mimetype": "text/x-python",
   "name": "python",
   "nbconvert_exporter": "python",
   "pygments_lexer": "ipython3",
   "version": "3.10.8"
  },
  "orig_nbformat": 4,
  "vscode": {
   "interpreter": {
    "hash": "bd385fe162c5ca0c84973b7dd5c518456272446b2b64e67c2a69f949ca7a1754"
   }
  }
 },
 "nbformat": 4,
 "nbformat_minor": 2
}
